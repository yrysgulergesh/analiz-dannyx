{
 "cells": [
  {
   "cell_type": "markdown",
   "id": "61c45845",
   "metadata": {},
   "source": [
    "Pandas предлагает две основные структуры данных: Series и DataFrame. Series - одномерный похожий на массив обьект, содержащий массив данных и ассоциированный с ним массив меток, который называется индексом. Простейший обьект Series состоит только из массива данных. Для работы  с Pandas нам необходимо его импортировать."
   ]
  },
  {
   "cell_type": "code",
   "execution_count": 6,
   "id": "851db022",
   "metadata": {},
   "outputs": [],
   "source": [
    "import pandas as pd"
   ]
  },
  {
   "cell_type": "code",
   "execution_count": 4,
   "id": "63b99a1c",
   "metadata": {},
   "outputs": [
    {
     "data": {
      "text/plain": [
       "'1.4.4'"
      ]
     },
     "execution_count": 4,
     "metadata": {},
     "output_type": "execute_result"
    }
   ],
   "source": [
    "pd.__version__"
   ]
  },
  {
   "cell_type": "code",
   "execution_count": null,
   "id": "c58a1af8",
   "metadata": {},
   "outputs": [
    {
     "data": {
      "text/plain": [
       "pandas.core.series.Series"
      ]
     },
     "execution_count": 7,
     "metadata": {},
     "output_type": "execute_result"
    }
   ],
   "source": [
    "ds1 = pd.Series([1, 2, 3, 4])\n",
    "ds1\n",
    "# type(ds1)"
   ]
  },
  {
   "cell_type": "code",
   "execution_count": null,
   "id": "23c4f372",
   "metadata": {},
   "outputs": [
    {
     "data": {
      "text/plain": [
       "numpy.ndarray"
      ]
     },
     "execution_count": 6,
     "metadata": {},
     "output_type": "execute_result"
    }
   ],
   "source": [
    "# значения серии\n",
    "type(ds1.values)"
   ]
  },
  {
   "cell_type": "code",
   "execution_count": null,
   "id": "df225da3",
   "metadata": {},
   "outputs": [
    {
     "data": {
      "text/plain": [
       "RangeIndex(start=0, stop=4, step=1)"
      ]
     },
     "execution_count": 8,
     "metadata": {},
     "output_type": "execute_result"
    }
   ],
   "source": [
    "# индексы\n",
    "ds1.index"
   ]
  },
  {
   "cell_type": "code",
   "execution_count": null,
   "id": "e281f69e",
   "metadata": {},
   "outputs": [
    {
     "data": {
      "text/plain": [
       "[1, 2, 3, 4]"
      ]
     },
     "execution_count": 3,
     "metadata": {},
     "output_type": "execute_result"
    }
   ],
   "source": [
    "list(range(1, 5))"
   ]
  },
  {
   "cell_type": "code",
   "execution_count": null,
   "id": "6148cbd0",
   "metadata": {},
   "outputs": [
    {
     "data": {
      "text/plain": [
       "a    1\n",
       "b    2\n",
       "c    3\n",
       "d    4\n",
       "dtype: int64"
      ]
     },
     "execution_count": 13,
     "metadata": {},
     "output_type": "execute_result"
    }
   ],
   "source": [
    "ds2 = pd.Series([1, 2, 3, 4], index=['a', 'b', 'c', 'd'])\n",
    "ds2"
   ]
  },
  {
   "cell_type": "code",
   "execution_count": 5,
   "id": "2824f2ab",
   "metadata": {},
   "outputs": [
    {
     "data": {
      "text/plain": [
       "a    1\n",
       "b    2\n",
       "c    3\n",
       "d    4\n",
       "dtype: int64"
      ]
     },
     "execution_count": 5,
     "metadata": {},
     "output_type": "execute_result"
    }
   ],
   "source": [
    "ds3 = pd.Series({'a': 1, 'b': 2, 'c': 3,  'd': 4})\n",
    "ds3"
   ]
  },
  {
   "cell_type": "markdown",
   "id": "4e138486",
   "metadata": {},
   "source": []
  },
  {
   "cell_type": "code",
   "execution_count": null,
   "id": "9354976a",
   "metadata": {},
   "outputs": [],
   "source": []
  }
 ],
 "metadata": {
  "kernelspec": {
   "display_name": "Python 3 (ipykernel)",
   "language": "python",
   "name": "python3"
  },
  "language_info": {
   "codemirror_mode": {
    "name": "ipython",
    "version": 3
   },
   "file_extension": ".py",
   "mimetype": "text/x-python",
   "name": "python",
   "nbconvert_exporter": "python",
   "pygments_lexer": "ipython3",
   "version": "3.9.13"
  },
  "vscode": {
   "interpreter": {
    "hash": "aee8b7b246df8f9039afb4144a1f6fd8d2ca17a180786b69acc140d282b71a49"
   }
  }
 },
 "nbformat": 4,
 "nbformat_minor": 5
}
