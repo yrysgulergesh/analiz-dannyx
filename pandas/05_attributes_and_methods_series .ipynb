{
 "cells": [
  {
   "cell_type": "code",
   "execution_count": 2,
   "id": "a5590e33",
   "metadata": {},
   "outputs": [],
   "source": [
    "import pandas as pd"
   ]
  },
  {
   "cell_type": "code",
   "execution_count": 3,
   "id": "a133e37f",
   "metadata": {},
   "outputs": [
    {
     "data": {
      "text/plain": [
       "0    1\n",
       "1    2\n",
       "2    3\n",
       "3    4\n",
       "dtype: int64"
      ]
     },
     "execution_count": 3,
     "metadata": {},
     "output_type": "execute_result"
    }
   ],
   "source": [
    "ds = pd.Series([1, 2, 3, 4])\n",
    "ds"
   ]
  },
  {
   "cell_type": "code",
   "execution_count": 4,
   "id": "ca8f7e65",
   "metadata": {},
   "outputs": [
    {
     "data": {
      "text/plain": [
       "0    1\n",
       "1    3\n",
       "2    3\n",
       "3    5\n",
       "dtype: int64"
      ]
     },
     "execution_count": 4,
     "metadata": {},
     "output_type": "execute_result"
    }
   ],
   "source": [
    "def test(x):\n",
    "    if not x % 2:\n",
    "        return x + 1\n",
    "    else:\n",
    "        return x \n",
    "ds.apply(test)"
   ]
  },
  {
   "cell_type": "code",
   "execution_count": 5,
   "id": "9090a27c",
   "metadata": {},
   "outputs": [
    {
     "data": {
      "text/plain": [
       "0    1\n",
       "1    3\n",
       "2    3\n",
       "3    5\n",
       "dtype: int64"
      ]
     },
     "execution_count": 5,
     "metadata": {},
     "output_type": "execute_result"
    }
   ],
   "source": [
    "ds.apply(lambda x: x +1 if not x % 2 else x)"
   ]
  },
  {
   "cell_type": "markdown",
   "id": "b8291f50",
   "metadata": {},
   "source": [
    "# Homework"
   ]
  },
  {
   "cell_type": "code",
   "execution_count": 6,
   "id": "dec39331",
   "metadata": {},
   "outputs": [
    {
     "data": {
      "text/plain": [
       "Dnepr     1000000\n",
       "Kiev      3000000\n",
       "Paris     2300000\n",
       "Berlin    3800000\n",
       "dtype: int64"
      ]
     },
     "execution_count": 6,
     "metadata": {},
     "output_type": "execute_result"
    }
   ],
   "source": [
    "cities = pd.Series(\n",
    "    {'Dnepr': 1000000, 'Kiev': 3000000, 'Paris': 2300000, 'Berlin': 3800000},\n",
    ")\n",
    "cities"
   ]
  },
  {
   "cell_type": "code",
   "execution_count": 7,
   "id": "516f82a3",
   "metadata": {},
   "outputs": [
    {
     "data": {
      "text/plain": [
       "0     Dnepr\n",
       "1      Kiev\n",
       "2     Paris\n",
       "3    Berlin\n",
       "dtype: object"
      ]
     },
     "execution_count": 7,
     "metadata": {},
     "output_type": "execute_result"
    }
   ],
   "source": [
    "cities2 = pd.Series(cities.index)\n",
    "cities2"
   ]
  },
  {
   "cell_type": "code",
   "execution_count": 8,
   "id": "e528b199",
   "metadata": {},
   "outputs": [
    {
     "name": "stdout",
     "output_type": "stream",
     "text": [
      "Ваше решение:\n"
     ]
    },
    {
     "data": {
      "text/plain": [
       "0     Dnepr!!!\n",
       "1      Kiev!!!\n",
       "2        Paris\n",
       "3    Berlin!!!\n",
       "dtype: object"
      ]
     },
     "execution_count": 8,
     "metadata": {},
     "output_type": "execute_result"
    }
   ],
   "source": [
    "# Примените функцию lambda к серии cities2, чтобы получить вариант вывода ниже (если в названии города есть 'e'):\n",
    "'''\n",
    "0    Dnepr!!!\n",
    "1      Kiev!!!\n",
    "2      Paris\n",
    "3    Berlin!!!\n",
    "dtype: object\n",
    "'''\n",
    "print('Ваше решение:')\n",
    "\n",
    "cities2.apply(lambda x: x + '!!!' if  'e' in x else x)"
   ]
  },
  {
   "cell_type": "code",
   "execution_count": 14,
   "id": "3070fb61",
   "metadata": {},
   "outputs": [
    {
     "name": "stdout",
     "output_type": "stream",
     "text": [
      "Ваше решение:\n"
     ]
    },
    {
     "data": {
      "text/plain": [
       "0      D-n-e-p-r\n",
       "1        K-i-e-v\n",
       "2          Paris\n",
       "3    B-e-r-l-i-n\n",
       "dtype: object"
      ]
     },
     "execution_count": 14,
     "metadata": {},
     "output_type": "execute_result"
    }
   ],
   "source": [
    "# Примените функцию к серии cities2,  чтобы получить вариант вывода ниже\n",
    "'''\n",
    "0    D-n-e-p-r\n",
    "1    K-i-e-v\n",
    "2      Paris\n",
    "3    B-e-r-l-i-n\n",
    "dtype: object\n",
    "'''\n",
    "print('Ваше решение:')\n",
    "\n",
    "def test2(x):\n",
    "    if 'e' in x:\n",
    "        return '-'.join(x)\n",
    "    else:\n",
    "        return x\n",
    "cities2.apply(test2)"
   ]
  },
  {
   "cell_type": "code",
   "execution_count": 15,
   "id": "a13dd1d4",
   "metadata": {},
   "outputs": [
    {
     "data": {
      "text/plain": [
       "0     Dnepr\n",
       "1      Kiev\n",
       "2     Paris\n",
       "3    Berlin\n",
       "dtype: object"
      ]
     },
     "execution_count": 15,
     "metadata": {},
     "output_type": "execute_result"
    }
   ],
   "source": [
    "cities2"
   ]
  },
  {
   "cell_type": "code",
   "execution_count": 17,
   "id": "34b0ba76",
   "metadata": {},
   "outputs": [
    {
     "data": {
      "text/plain": [
       "0     Dnepr\n",
       "1      Kiev\n",
       "3    Berlin\n",
       "dtype: object"
      ]
     },
     "execution_count": 17,
     "metadata": {},
     "output_type": "execute_result"
    }
   ],
   "source": [
    "cities2[cities2.str.contains('i')]"
   ]
  }
 ],
 "metadata": {
  "kernelspec": {
   "display_name": "Python 3.11.0 64-bit",
   "language": "python",
   "name": "python3"
  },
  "language_info": {
   "codemirror_mode": {
    "name": "ipython",
    "version": 3
   },
   "file_extension": ".py",
   "mimetype": "text/x-python",
   "name": "python",
   "nbconvert_exporter": "python",
   "pygments_lexer": "ipython3",
   "version": "3.11.0"
  },
  "vscode": {
   "interpreter": {
    "hash": "aee8b7b246df8f9039afb4144a1f6fd8d2ca17a180786b69acc140d282b71a49"
   }
  }
 },
 "nbformat": 4,
 "nbformat_minor": 5
}
