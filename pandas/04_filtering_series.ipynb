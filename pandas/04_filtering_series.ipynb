{
 "cells": [
  {
   "cell_type": "code",
   "execution_count": 1,
   "id": "285f6bd7",
   "metadata": {},
   "outputs": [],
   "source": [
    "import pandas as pd"
   ]
  },
  {
   "cell_type": "code",
   "execution_count": 4,
   "id": "9854bf4f",
   "metadata": {},
   "outputs": [
    {
     "data": {
      "text/plain": [
       "Dnepr     1000000.0\n",
       "Paris     2300000.0\n",
       "Berlin    3800000.0\n",
       "Milan           NaN\n",
       "dtype: float64"
      ]
     },
     "execution_count": 4,
     "metadata": {},
     "output_type": "execute_result"
    }
   ],
   "source": [
    "cities =  pd.Series(\n",
    "    {'Dnepr': 1000000, 'Kiev': 3000000, 'Paris': 2300000, 'Berlin': 3800000}, \n",
    "    index=['Dnepr', 'Paris','Berlin', 'Milan'])\n",
    "cities"
   ]
  },
  {
   "cell_type": "code",
   "execution_count": 5,
   "id": "2c5bbc97",
   "metadata": {},
   "outputs": [
    {
     "data": {
      "text/plain": [
       "Dnepr     False\n",
       "Paris     False\n",
       "Berlin    False\n",
       "Milan      True\n",
       "dtype: bool"
      ]
     },
     "execution_count": 5,
     "metadata": {},
     "output_type": "execute_result"
    }
   ],
   "source": [
    "cities.isnull()"
   ]
  },
  {
   "cell_type": "code",
   "execution_count": 6,
   "id": "3bf9fc29",
   "metadata": {},
   "outputs": [
    {
     "data": {
      "text/plain": [
       "Dnepr      True\n",
       "Paris      True\n",
       "Berlin     True\n",
       "Milan     False\n",
       "dtype: bool"
      ]
     },
     "execution_count": 6,
     "metadata": {},
     "output_type": "execute_result"
    }
   ],
   "source": [
    "cities.notnull()"
   ]
  },
  {
   "cell_type": "code",
   "execution_count": 7,
   "id": "b9ae8ce7",
   "metadata": {},
   "outputs": [
    {
     "data": {
      "text/plain": [
       "Dnepr     False\n",
       "Paris      True\n",
       "Berlin     True\n",
       "Milan     False\n",
       "dtype: bool"
      ]
     },
     "execution_count": 7,
     "metadata": {},
     "output_type": "execute_result"
    }
   ],
   "source": [
    "cities > 1000000"
   ]
  },
  {
   "cell_type": "code",
   "execution_count": 9,
   "id": "11f771ac",
   "metadata": {},
   "outputs": [
    {
     "data": {
      "text/plain": [
       "Milan   NaN\n",
       "dtype: float64"
      ]
     },
     "execution_count": 9,
     "metadata": {},
     "output_type": "execute_result"
    }
   ],
   "source": [
    "cities[cities.isnull()]"
   ]
  },
  {
   "cell_type": "code",
   "execution_count": 10,
   "id": "95744443",
   "metadata": {},
   "outputs": [
    {
     "data": {
      "text/plain": [
       "1000000.0"
      ]
     },
     "execution_count": 10,
     "metadata": {},
     "output_type": "execute_result"
    }
   ],
   "source": [
    "cities['Dnepr']"
   ]
  },
  {
   "cell_type": "code",
   "execution_count": 11,
   "id": "e366b449",
   "metadata": {},
   "outputs": [
    {
     "data": {
      "text/plain": [
       "Dnepr     1000000.0\n",
       "Paris     2300000.0\n",
       "Berlin    3800000.0\n",
       "dtype: float64"
      ]
     },
     "execution_count": 11,
     "metadata": {},
     "output_type": "execute_result"
    }
   ],
   "source": [
    "cities[cities.notna()]"
   ]
  },
  {
   "cell_type": "code",
   "execution_count": 12,
   "id": "3cfa2873",
   "metadata": {},
   "outputs": [
    {
     "data": {
      "text/plain": [
       "Paris     2300000.0\n",
       "Berlin    3800000.0\n",
       "dtype: float64"
      ]
     },
     "execution_count": 12,
     "metadata": {},
     "output_type": "execute_result"
    }
   ],
   "source": [
    "cities[cities > 1000000]"
   ]
  },
  {
   "cell_type": "code",
   "execution_count": 16,
   "id": "be4d0039",
   "metadata": {},
   "outputs": [
    {
     "data": {
      "text/plain": [
       "Dnepr    1000000.0\n",
       "Paris    2300000.0\n",
       "dtype: float64"
      ]
     },
     "execution_count": 16,
     "metadata": {},
     "output_type": "execute_result"
    }
   ],
   "source": [
    "# & = and\n",
    "# | = or\n",
    "# ~ = not\n",
    "cities[(cities > 1000000) & (cities < 3000000)]"
   ]
  },
  {
   "cell_type": "code",
   "execution_count": 17,
   "id": "6cc0bb16",
   "metadata": {},
   "outputs": [
    {
     "data": {
      "text/plain": [
       "Dnepr     1000000.0\n",
       "Berlin    3800000.0\n",
       "dtype: float64"
      ]
     },
     "execution_count": 17,
     "metadata": {},
     "output_type": "execute_result"
    }
   ],
   "source": [
    "cities[(cities > 100000) & (cities != 2300000)]"
   ]
  },
  {
   "cell_type": "code",
   "execution_count": 18,
   "id": "f682315a",
   "metadata": {},
   "outputs": [
    {
     "data": {
      "text/plain": [
       "Berlin    3800000.0\n",
       "dtype: float64"
      ]
     },
     "execution_count": 18,
     "metadata": {},
     "output_type": "execute_result"
    }
   ],
   "source": [
    "cities[(cities > 3000000)]"
   ]
  },
  {
   "cell_type": "code",
   "execution_count": 19,
   "id": "d8b4f841",
   "metadata": {},
   "outputs": [
    {
     "data": {
      "text/plain": [
       "Dnepr    1000000.0\n",
       "Paris    2300000.0\n",
       "Milan          NaN\n",
       "dtype: float64"
      ]
     },
     "execution_count": 19,
     "metadata": {},
     "output_type": "execute_result"
    }
   ],
   "source": [
    "cities[~(cities > 3000000)]"
   ]
  },
  {
   "cell_type": "code",
   "execution_count": 20,
   "id": "b996abeb",
   "metadata": {},
   "outputs": [
    {
     "data": {
      "text/plain": [
       "Dnepr    1000000.0\n",
       "Paris    2300000.0\n",
       "dtype: float64"
      ]
     },
     "execution_count": 20,
     "metadata": {},
     "output_type": "execute_result"
    }
   ],
   "source": [
    "cities[ ~(cities > 3000000) & (cities.notnull()) ]"
   ]
  },
  {
   "cell_type": "code",
   "execution_count": 21,
   "id": "fc8d2add",
   "metadata": {},
   "outputs": [
    {
     "name": "stdout",
     "output_type": "stream",
     "text": [
      "Index: Dnepr, Value: 1000000.0\n",
      "Index: Paris, Value: 2300000.0\n",
      "Index: Berlin, Value: 3800000.0\n",
      "Index: Milan, Value: nan\n"
     ]
    }
   ],
   "source": [
    "for index, value in cities.items():\n",
    "    print(f'Index: {index}, Value: {value}')"
   ]
  },
  {
   "cell_type": "code",
   "execution_count": null,
   "id": "ffbd25b5",
   "metadata": {},
   "outputs": [],
   "source": []
  }
 ],
 "metadata": {
  "kernelspec": {
   "display_name": "Python 3.11.0 64-bit",
   "language": "python",
   "name": "python3"
  },
  "language_info": {
   "codemirror_mode": {
    "name": "ipython",
    "version": 3
   },
   "file_extension": ".py",
   "mimetype": "text/x-python",
   "name": "python",
   "nbconvert_exporter": "python",
   "pygments_lexer": "ipython3",
   "version": "3.11.0"
  },
  "vscode": {
   "interpreter": {
    "hash": "aee8b7b246df8f9039afb4144a1f6fd8d2ca17a180786b69acc140d282b71a49"
   }
  }
 },
 "nbformat": 4,
 "nbformat_minor": 5
}
