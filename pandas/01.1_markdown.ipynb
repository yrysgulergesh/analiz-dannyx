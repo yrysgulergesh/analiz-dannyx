{
 "cells": [
  {
   "cell_type": "markdown",
   "id": "779885d0",
   "metadata": {},
   "source": [
    "Для создания параграфа достаточно просто набрать текст в режиме `Markdown` и использовать сочитание клавиш `Shirft + Enter.`"
   ]
  },
  {
   "cell_type": "markdown",
   "id": "ce02aa9a",
   "metadata": {},
   "source": [
    "Для выделения подcтроки используются обратные кавычки: `"
   ]
  },
  {
   "cell_type": "markdown",
   "id": "e3023d02",
   "metadata": {},
   "source": [
    "Заголовки можно получить, используя символ #"
   ]
  },
  {
   "cell_type": "markdown",
   "id": "97234c18",
   "metadata": {},
   "source": [
    "# Header 1\n",
    "\n",
    "## Header 2\n",
    "\n",
    "### Header 3\n",
    "\n",
    "#### Header 4\n",
    "\n",
    "##### Header 5\n",
    "\n",
    "###### Header 6"
   ]
  },
  {
   "cell_type": "markdown",
   "id": "c4a96a67",
   "metadata": {},
   "source": [
    "Если нужен неупорядоченный список, можно использовать следующие символы: *, или  -, +. Вложенные пункты создаются четырьмя проблемами перед маркером пункта"
   ]
  },
  {
   "cell_type": "markdown",
   "id": "75c40e60",
   "metadata": {},
   "source": [
    "* Элемент 1\n",
    "* Элемент 2\n",
    "    * Элемент 2.1\n",
    "    * Элемент 2.2\n",
    "* Элемент 3\n",
    "    "
   ]
  },
  {
   "cell_type": "markdown",
   "id": "51e025e9",
   "metadata": {},
   "source": [
    "Упорядоченные списки создаются добавлением цифры с точкой: \n",
    "\n",
    "1. Элемент 1\n",
    "2. Элемент 2\n",
    "    1. Элемент 2.1\n",
    "    2. Элемент 2.2\n",
    "3. Элемент 3"
   ]
  },
  {
   "cell_type": "markdown",
   "id": "d4d7a4b7",
   "metadata": {},
   "source": [
    "Исходный код можно добавить с помощью трех обратных кавычек  и указания языка."
   ]
  },
  {
   "cell_type": "markdown",
   "id": "c5c5bcd0",
   "metadata": {},
   "source": [
    "``` html\n",
    "<!DOCTYPE html>\n",
    "<html>\n",
    "<head>\n",
    "<title>Page Title</title>\n",
    "</head>\n",
    "<body>\n",
    "\n",
    "<h1>This is a Heading</h1>\n",
    "<p>This is a paragraph.</p>\n",
    "\n",
    "</body>\n",
    "</html>\n",
    "\n",
    "```"
   ]
  },
  {
   "cell_type": "markdown",
   "id": "9511248f",
   "metadata": {},
   "source": [
    "---"
   ]
  },
  {
   "cell_type": "markdown",
   "id": "612e5de3",
   "metadata": {},
   "source": [
    "```python\n",
    "print('Hello world!')\n",
    "```\n",
    "\n"
   ]
  },
  {
   "cell_type": "markdown",
   "id": "f536576c",
   "metadata": {},
   "source": [
    "Горизонтальная черта создается так: --- или так ***"
   ]
  },
  {
   "cell_type": "markdown",
   "id": "f5de277a",
   "metadata": {},
   "source": [
    "Так создаются ссылки: [Текст ссылки](www.super.kg/ \"Необязательный заголовок ссылки\")"
   ]
  },
  {
   "cell_type": "markdown",
   "id": "6a87dbb2",
   "metadata": {},
   "source": [
    "Вот так выглядит [ссылка](www.super.kg/ \"Необязательный заголовок ссылки\") в тексте."
   ]
  },
  {
   "cell_type": "code",
   "execution_count": null,
   "id": "95176c2e",
   "metadata": {},
   "outputs": [],
   "source": [
    "Изображения добавляются так: ![Alt -текст](http://example.com/\"Заголовок изображения\")"
   ]
  },
  {
   "cell_type": "markdown",
   "id": "edb8a002",
   "metadata": {},
   "source": [
    "![Alt -текст](https://picsum.photos/seed/picsum/500/300 \"Заголовок изображения\")"
   ]
  },
  {
   "cell_type": "markdown",
   "id": "7018817e",
   "metadata": {},
   "source": [
    "![Alt -текст](picture.jpg \"Заголовок изображения\")"
   ]
  },
  {
   "cell_type": "code",
   "execution_count": 21,
   "id": "84b7466a",
   "metadata": {},
   "outputs": [
    {
     "data": {
      "text/html": [
       "\n",
       "        <iframe\n",
       "            width=\"800\"\n",
       "            height=\"500\"\n",
       "            src=\"https://www.youtube.com/embed/wWyN6IIbx64\"\n",
       "            frameborder=\"0\"\n",
       "            allowfullscreen\n",
       "            \n",
       "        ></iframe>\n",
       "        "
      ],
      "text/plain": [
       "<IPython.lib.display.YouTubeVideo at 0x1e0e07a4160>"
      ]
     },
     "execution_count": 21,
     "metadata": {},
     "output_type": "execute_result"
    }
   ],
   "source": [
    "from IPython.display import YouTubeVideo\n",
    "YouTubeVideo('wWyN6IIbx64', 800, 500)"
   ]
  },
  {
   "cell_type": "code",
   "execution_count": 22,
   "id": "62a29d01",
   "metadata": {},
   "outputs": [
    {
     "data": {
      "text/html": [
       "\n",
       "        <iframe\n",
       "            width=\"800\"\n",
       "            height=\"500\"\n",
       "            src=\"https://www.youtube.com/embed/BmQw1v7Z4Gw\"\n",
       "            frameborder=\"0\"\n",
       "            allowfullscreen\n",
       "            \n",
       "        ></iframe>\n",
       "        "
      ],
      "text/plain": [
       "<IPython.lib.display.IFrame at 0x1e0e0855430>"
      ]
     },
     "execution_count": 22,
     "metadata": {},
     "output_type": "execute_result"
    }
   ],
   "source": [
    "from IPython.display import IFrame\n",
    "IFrame('https://www.youtube.com/embed/BmQw1v7Z4Gw', 800, 500)"
   ]
  },
  {
   "cell_type": "code",
   "execution_count": null,
   "id": "63138327",
   "metadata": {},
   "outputs": [],
   "source": []
  }
 ],
 "metadata": {
  "kernelspec": {
   "display_name": "Python 3 (ipykernel)",
   "language": "python",
   "name": "python3"
  },
  "language_info": {
   "codemirror_mode": {
    "name": "ipython",
    "version": 3
   },
   "file_extension": ".py",
   "mimetype": "text/x-python",
   "name": "python",
   "nbconvert_exporter": "python",
   "pygments_lexer": "ipython3",
   "version": "3.11.0"
  },
  "vscode": {
   "interpreter": {
    "hash": "aee8b7b246df8f9039afb4144a1f6fd8d2ca17a180786b69acc140d282b71a49"
   }
  }
 },
 "nbformat": 4,
 "nbformat_minor": 5
}
